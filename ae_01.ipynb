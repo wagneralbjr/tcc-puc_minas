{
 "cells": [
  {
   "cell_type": "code",
   "execution_count": 1,
   "metadata": {},
   "outputs": [],
   "source": [
    "import pandas as pd\n",
    "from datasets import get_ed_basica, treatment_ed_basica, get_unique_municipios\n",
    "from utils import start_notebook, calculate_percentage_of_group, apply_func_perc, calculate_sum_of_group, apply_func_sum\n",
    "\n",
    "import numpy as np"
   ]
  },
  {
   "cell_type": "code",
   "execution_count": 2,
   "metadata": {},
   "outputs": [],
   "source": [
    "start_notebook()"
   ]
  },
  {
   "cell_type": "code",
   "execution_count": 3,
   "metadata": {},
   "outputs": [
    {
     "name": "stderr",
     "output_type": "stream",
     "text": [
      "/home/wagner/Documents/tcc-puc_minas/datasets.py:6: DtypeWarning: Columns (27) have mixed types. Specify dtype option on import or set low_memory=False.\n",
      "  df = pd.read_csv(\n"
     ]
    }
   ],
   "source": [
    "ed_basica = get_ed_basica()\n",
    "ed_basica = treatment_ed_basica(ed_basica)\n"
   ]
  },
  {
   "cell_type": "code",
   "execution_count": 8,
   "metadata": {},
   "outputs": [],
   "source": [
    "final_df = get_unique_municipios(ed_basica)\n",
    "final_df = apply_func_perc( final_df, ed_basica, calculate_percentage_of_group, \"CO_MUNICIPIO\", \"TP_DEPENDENCIA\", \"privado\", \"PERC_TP_DEPENDENCIA\")\n",
    "final_df = apply_func_perc( final_df, ed_basica, calculate_percentage_of_group, \"CO_MUNICIPIO\", \"TP_LOCALIZACAO\", \"urbana\", \"PERC_TP_LOCALIZACAO\")\n",
    "final_df = apply_func_perc( final_df, ed_basica, calculate_percentage_of_group, \"CO_MUNICIPIO\", \"IN_AGUA_POTAVEL\", 1, \"PERC_IN_AGUA_POTAVEL\")\n",
    "final_df = apply_func_perc( final_df, ed_basica, calculate_percentage_of_group, \"CO_MUNICIPIO\", \"IN_ENERGIA_INEXISTENTE\", 1, \"PERC_IN_ENERGIA_INEXISTENTE\")\n",
    "final_df = apply_func_perc( final_df, ed_basica, calculate_percentage_of_group, \"CO_MUNICIPIO\", \"IN_ESGOTO_REDE_PUBLICA\", 1, \"PERC_IN_ESGOTO_REDE_PUBLICA\")\n",
    "final_df = apply_func_perc( final_df, ed_basica, calculate_percentage_of_group, \"CO_MUNICIPIO\", \"IN_BIBLIOTECA_SALA_LEITURA\", 1, \"PERC_IN_BIBLIOTECA_SALA_LEITURA\")\n",
    "final_df = apply_func_perc( final_df, ed_basica, calculate_percentage_of_group, \"CO_MUNICIPIO\", \"IN_QUADRA_ESPORTES\", 1, \"PERC_IN_QUADRA_ESPORTES\")\n",
    "final_df = apply_func_perc( final_df, ed_basica, calculate_percentage_of_group, \"CO_MUNICIPIO\", \"IN_QUADRA_ESPORTES\", 1, \"PERC_IN_QUADRA_ESPORTES\")\n",
    "final_df = apply_func_perc( final_df, ed_basica, calculate_percentage_of_group, \"CO_MUNICIPIO\", \"IN_SALA_ESTUDIO_DANCA\", 1, \"PERC_IN_SALA_ESTUDIO_DANCA\")\n",
    "final_df = apply_func_perc( final_df, ed_basica, calculate_percentage_of_group, \"CO_MUNICIPIO\", \"IN_BANDA_LARGA\", 1, \"PERC_IN_BANDA_LARGA\")\n",
    "final_df = apply_func_perc( final_df, ed_basica, calculate_percentage_of_group, \"CO_MUNICIPIO\", \"TP_ATIVIDADE_COMPLEMENTAR\", \"sim\", \"PERC_TP_ATIVIDADE_COMPLEMENTAR\")\n",
    "final_df = apply_func_sum(final_df, ed_basica, calculate_sum_of_group, \"CO_MUNICIPIO\", \"QT_SALAS_UTILIZADAS\", \"SUM_QT_SALAS_UTILIZADAS\")\n",
    "final_df = apply_func_sum(final_df, ed_basica, calculate_sum_of_group, \"CO_MUNICIPIO\", \"QT_DESKTOP_ALUNO\", \"SUM_QT_DESKTOP_ALUNO\")\n",
    "final_df = apply_func_sum(final_df, ed_basica, calculate_sum_of_group, \"CO_MUNICIPIO\", \"QT_COMP_PORTATIL_ALUNO\", \"SUM_QT_COMP_PORTATIL_ALUNO\")\n"
   ]
  },
  {
   "cell_type": "code",
   "execution_count": null,
   "metadata": {},
   "outputs": [],
   "source": []
  }
 ],
 "metadata": {
  "kernelspec": {
   "display_name": "Python 3.10.6 64-bit",
   "language": "python",
   "name": "python3"
  },
  "language_info": {
   "codemirror_mode": {
    "name": "ipython",
    "version": 3
   },
   "file_extension": ".py",
   "mimetype": "text/x-python",
   "name": "python",
   "nbconvert_exporter": "python",
   "pygments_lexer": "ipython3",
   "version": "3.10.6"
  },
  "orig_nbformat": 4,
  "vscode": {
   "interpreter": {
    "hash": "916dbcbb3f70747c44a77c7bcd40155683ae19c65e1c03b4aa3499c5328201f1"
   }
  }
 },
 "nbformat": 4,
 "nbformat_minor": 2
}
