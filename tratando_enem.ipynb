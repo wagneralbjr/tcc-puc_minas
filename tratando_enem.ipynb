{
 "cells": [
  {
   "cell_type": "code",
   "execution_count": 11,
   "metadata": {},
   "outputs": [],
   "source": [
    "import pandas as pd\n",
    "from utils import start_notebook\n",
    "import seaborn as sns"
   ]
  },
  {
   "cell_type": "code",
   "execution_count": 2,
   "metadata": {},
   "outputs": [],
   "source": [
    "start_notebook()"
   ]
  },
  {
   "cell_type": "code",
   "execution_count": 3,
   "metadata": {},
   "outputs": [],
   "source": [
    "df_enem = pd.read_csv(\"datasets/microdados_enem_2021/DADOS/MICRODADOS_ENEM_2021.csv\", sep=\";\", encoding=\"iso-8859-1\")"
   ]
  },
  {
   "cell_type": "code",
   "execution_count": 4,
   "metadata": {},
   "outputs": [],
   "source": [
    "df_enem = df_enem.query(\n",
    "    \"\"\"\n",
    "        TP_PRESENCA_CN == 1 & TP_PRESENCA_CH == 1 & TP_PRESENCA_LC == 1 & TP_PRESENCA_MT == 1\n",
    "\n",
    "    \"\"\"\n",
    ")"
   ]
  },
  {
   "cell_type": "code",
   "execution_count": 5,
   "metadata": {},
   "outputs": [],
   "source": [
    "sub = df_enem[[\"CO_MUNICIPIO_ESC\", 'NU_NOTA_CN', 'NU_NOTA_CH', 'NU_NOTA_LC', 'NU_NOTA_MT']]"
   ]
  },
  {
   "cell_type": "markdown",
   "metadata": {},
   "source": [
    "### Agrupando por município, para validar"
   ]
  },
  {
   "cell_type": "code",
   "execution_count": 6,
   "metadata": {},
   "outputs": [],
   "source": [
    "df_means_municipio = sub.groupby(\"CO_MUNICIPIO_ESC\", as_index=False).agg(\n",
    "     MD_NU_NOTA_CN = pd.NamedAgg(column= \"NU_NOTA_CN\", aggfunc=\"mean\") , \n",
    "     MD_NU_NOTA_CH = pd.NamedAgg(column= \"NU_NOTA_CH\", aggfunc=\"mean\"),\n",
    "     MD_NU_NOTA_LC = pd.NamedAgg(column= \"NU_NOTA_LC\", aggfunc=\"mean\"),\n",
    "     MD_NU_NOTA_MT = pd.NamedAgg(column= \"NU_NOTA_MT\", aggfunc=\"mean\"),\n",
    "\n",
    ")"
   ]
  },
  {
   "cell_type": "code",
   "execution_count": 7,
   "metadata": {},
   "outputs": [
    {
     "data": {
      "text/html": [
       "<div>\n",
       "<style scoped>\n",
       "    .dataframe tbody tr th:only-of-type {\n",
       "        vertical-align: middle;\n",
       "    }\n",
       "\n",
       "    .dataframe tbody tr th {\n",
       "        vertical-align: top;\n",
       "    }\n",
       "\n",
       "    .dataframe thead th {\n",
       "        text-align: right;\n",
       "    }\n",
       "</style>\n",
       "<table border=\"1\" class=\"dataframe\">\n",
       "  <thead>\n",
       "    <tr style=\"text-align: right;\">\n",
       "      <th></th>\n",
       "      <th>CO_MUNICIPIO_ESC</th>\n",
       "      <th>MD_NU_NOTA_CN</th>\n",
       "      <th>MD_NU_NOTA_CH</th>\n",
       "      <th>MD_NU_NOTA_LC</th>\n",
       "      <th>MD_NU_NOTA_MT</th>\n",
       "    </tr>\n",
       "  </thead>\n",
       "  <tbody>\n",
       "    <tr>\n",
       "      <th>5215</th>\n",
       "      <td>5107883.000</td>\n",
       "      <td>418.200</td>\n",
       "      <td>382.500</td>\n",
       "      <td>442.100</td>\n",
       "      <td>373.900</td>\n",
       "    </tr>\n",
       "    <tr>\n",
       "      <th>798</th>\n",
       "      <td>2207108.000</td>\n",
       "      <td>454.000</td>\n",
       "      <td>411.900</td>\n",
       "      <td>432.800</td>\n",
       "      <td>374.500</td>\n",
       "    </tr>\n",
       "    <tr>\n",
       "      <th>821</th>\n",
       "      <td>2208551.000</td>\n",
       "      <td>427.967</td>\n",
       "      <td>415.400</td>\n",
       "      <td>410.433</td>\n",
       "      <td>376.733</td>\n",
       "    </tr>\n",
       "    <tr>\n",
       "      <th>1735</th>\n",
       "      <td>2801108.000</td>\n",
       "      <td>476.700</td>\n",
       "      <td>433.500</td>\n",
       "      <td>395.000</td>\n",
       "      <td>377.000</td>\n",
       "    </tr>\n",
       "    <tr>\n",
       "      <th>2565</th>\n",
       "      <td>3131109.000</td>\n",
       "      <td>422.400</td>\n",
       "      <td>413.100</td>\n",
       "      <td>444.800</td>\n",
       "      <td>379.900</td>\n",
       "    </tr>\n",
       "    <tr>\n",
       "      <th>...</th>\n",
       "      <td>...</td>\n",
       "      <td>...</td>\n",
       "      <td>...</td>\n",
       "      <td>...</td>\n",
       "      <td>...</td>\n",
       "    </tr>\n",
       "    <tr>\n",
       "      <th>4796</th>\n",
       "      <td>4313011.000</td>\n",
       "      <td>593.500</td>\n",
       "      <td>627.200</td>\n",
       "      <td>610.500</td>\n",
       "      <td>695.800</td>\n",
       "    </tr>\n",
       "    <tr>\n",
       "      <th>4195</th>\n",
       "      <td>4126272.000</td>\n",
       "      <td>611.400</td>\n",
       "      <td>632.200</td>\n",
       "      <td>597.300</td>\n",
       "      <td>697.200</td>\n",
       "    </tr>\n",
       "    <tr>\n",
       "      <th>3072</th>\n",
       "      <td>3201100.000</td>\n",
       "      <td>622.600</td>\n",
       "      <td>667.200</td>\n",
       "      <td>608.400</td>\n",
       "      <td>697.500</td>\n",
       "    </tr>\n",
       "    <tr>\n",
       "      <th>3887</th>\n",
       "      <td>4103370.000</td>\n",
       "      <td>581.550</td>\n",
       "      <td>605.500</td>\n",
       "      <td>614.000</td>\n",
       "      <td>714.050</td>\n",
       "    </tr>\n",
       "    <tr>\n",
       "      <th>2714</th>\n",
       "      <td>3143609.000</td>\n",
       "      <td>678.200</td>\n",
       "      <td>704.300</td>\n",
       "      <td>625.800</td>\n",
       "      <td>807.100</td>\n",
       "    </tr>\n",
       "  </tbody>\n",
       "</table>\n",
       "<p>5477 rows × 5 columns</p>\n",
       "</div>"
      ],
      "text/plain": [
       "      CO_MUNICIPIO_ESC  MD_NU_NOTA_CN  MD_NU_NOTA_CH  MD_NU_NOTA_LC  \\\n",
       "5215       5107883.000        418.200        382.500        442.100   \n",
       "798        2207108.000        454.000        411.900        432.800   \n",
       "821        2208551.000        427.967        415.400        410.433   \n",
       "1735       2801108.000        476.700        433.500        395.000   \n",
       "2565       3131109.000        422.400        413.100        444.800   \n",
       "...                ...            ...            ...            ...   \n",
       "4796       4313011.000        593.500        627.200        610.500   \n",
       "4195       4126272.000        611.400        632.200        597.300   \n",
       "3072       3201100.000        622.600        667.200        608.400   \n",
       "3887       4103370.000        581.550        605.500        614.000   \n",
       "2714       3143609.000        678.200        704.300        625.800   \n",
       "\n",
       "      MD_NU_NOTA_MT  \n",
       "5215        373.900  \n",
       "798         374.500  \n",
       "821         376.733  \n",
       "1735        377.000  \n",
       "2565        379.900  \n",
       "...             ...  \n",
       "4796        695.800  \n",
       "4195        697.200  \n",
       "3072        697.500  \n",
       "3887        714.050  \n",
       "2714        807.100  \n",
       "\n",
       "[5477 rows x 5 columns]"
      ]
     },
     "execution_count": 7,
     "metadata": {},
     "output_type": "execute_result"
    }
   ],
   "source": [
    "df_means_municipio.sort_values(\"MD_NU_NOTA_MT\")"
   ]
  },
  {
   "cell_type": "code",
   "execution_count": 9,
   "metadata": {},
   "outputs": [],
   "source": [
    "df_means_municipio[\"MD_NOTA_TOTAL\"] = (\n",
    "    df_means_municipio[\"MD_NU_NOTA_CN\"] \n",
    "    + df_means_municipio[\"MD_NU_NOTA_CH\"] \n",
    "    + df_means_municipio[\"MD_NU_NOTA_LC\"] \n",
    "    + df_means_municipio[\"MD_NU_NOTA_MT\"] ) / 4"
   ]
  },
  {
   "cell_type": "code",
   "execution_count": 12,
   "metadata": {},
   "outputs": [
    {
     "data": {
      "text/plain": [
       "<AxesSubplot: xlabel='MD_NOTA_TOTAL', ylabel='Count'>"
      ]
     },
     "execution_count": 12,
     "metadata": {},
     "output_type": "execute_result"
    },
    {
     "data": {
      "image/png": "[encoded data removed]",
      "text/plain": [
       "<Figure size 640x480 with 1 Axes>"
      ]
     },
     "metadata": {},
     "output_type": "display_data"
    }
   ],
   "source": [
    "sns.histplot(df_means_municipio, x = \"MD_NOTA_TOTAL\")"
   ]
  },
  {
   "cell_type": "code",
   "execution_count": 15,
   "metadata": {},
   "outputs": [],
   "source": [
    "\n",
    "df_means_municipio = df_means_municipio.drop([\"MD_NU_NOTA_CN\", \"MD_NU_NOTA_CH\", \"MD_NU_NOTA_LC\",\"MD_NU_NOTA_MT\"] , axis=1)"
   ]
  },
  {
   "cell_type": "code",
   "execution_count": 23,
   "metadata": {},
   "outputs": [],
   "source": [
    "\n",
    "df_means_municipio[\"CO_MUNICIPIO_ESC\"] = df_means_municipio[\"CO_MUNICIPIO_ESC\"].apply( lambda x : int(x))\n",
    "df_means_municipio = df_means_municipio.rename(columns={\"CO_MUNICIPIO_ESC\" : \"CO_MUNICIPIO\"})"
   ]
  },
  {
   "cell_type": "code",
   "execution_count": 24,
   "metadata": {},
   "outputs": [
    {
     "data": {
      "text/html": [
       "<div>\n",
       "<style scoped>\n",
       "    .dataframe tbody tr th:only-of-type {\n",
       "        vertical-align: middle;\n",
       "    }\n",
       "\n",
       "    .dataframe tbody tr th {\n",
       "        vertical-align: top;\n",
       "    }\n",
       "\n",
       "    .dataframe thead th {\n",
       "        text-align: right;\n",
       "    }\n",
       "</style>\n",
       "<table border=\"1\" class=\"dataframe\">\n",
       "  <thead>\n",
       "    <tr style=\"text-align: right;\">\n",
       "      <th></th>\n",
       "      <th>CO_MUNICIPIO</th>\n",
       "      <th>MD_NOTA_TOTAL</th>\n",
       "    </tr>\n",
       "  </thead>\n",
       "  <tbody>\n",
       "    <tr>\n",
       "      <th>0</th>\n",
       "      <td>1100015</td>\n",
       "      <td>512.174</td>\n",
       "    </tr>\n",
       "    <tr>\n",
       "      <th>1</th>\n",
       "      <td>1100023</td>\n",
       "      <td>496.515</td>\n",
       "    </tr>\n",
       "    <tr>\n",
       "      <th>2</th>\n",
       "      <td>1100031</td>\n",
       "      <td>487.062</td>\n",
       "    </tr>\n",
       "    <tr>\n",
       "      <th>3</th>\n",
       "      <td>1100049</td>\n",
       "      <td>506.960</td>\n",
       "    </tr>\n",
       "    <tr>\n",
       "      <th>4</th>\n",
       "      <td>1100056</td>\n",
       "      <td>481.558</td>\n",
       "    </tr>\n",
       "    <tr>\n",
       "      <th>...</th>\n",
       "      <td>...</td>\n",
       "      <td>...</td>\n",
       "    </tr>\n",
       "    <tr>\n",
       "      <th>5472</th>\n",
       "      <td>5222005</td>\n",
       "      <td>482.386</td>\n",
       "    </tr>\n",
       "    <tr>\n",
       "      <th>5473</th>\n",
       "      <td>5222054</td>\n",
       "      <td>470.119</td>\n",
       "    </tr>\n",
       "    <tr>\n",
       "      <th>5474</th>\n",
       "      <td>5222203</td>\n",
       "      <td>436.936</td>\n",
       "    </tr>\n",
       "    <tr>\n",
       "      <th>5475</th>\n",
       "      <td>5222302</td>\n",
       "      <td>432.442</td>\n",
       "    </tr>\n",
       "    <tr>\n",
       "      <th>5476</th>\n",
       "      <td>5300108</td>\n",
       "      <td>529.598</td>\n",
       "    </tr>\n",
       "  </tbody>\n",
       "</table>\n",
       "<p>5477 rows × 2 columns</p>\n",
       "</div>"
      ],
      "text/plain": [
       "      CO_MUNICIPIO  MD_NOTA_TOTAL\n",
       "0          1100015        512.174\n",
       "1          1100023        496.515\n",
       "2          1100031        487.062\n",
       "3          1100049        506.960\n",
       "4          1100056        481.558\n",
       "...            ...            ...\n",
       "5472       5222005        482.386\n",
       "5473       5222054        470.119\n",
       "5474       5222203        436.936\n",
       "5475       5222302        432.442\n",
       "5476       5300108        529.598\n",
       "\n",
       "[5477 rows x 2 columns]"
      ]
     },
     "execution_count": 24,
     "metadata": {},
     "output_type": "execute_result"
    }
   ],
   "source": [
    "df_means_municipio"
   ]
  },
  {
   "cell_type": "code",
   "execution_count": 25,
   "metadata": {},
   "outputs": [],
   "source": [
    "df_means_municipio.to_parquet(\"datasets/tratados/enem.parquet\")"
   ]
  },
  {
   "cell_type": "code",
   "execution_count": null,
   "metadata": {},
   "outputs": [],
   "source": []
  }
 ],
 "metadata": {
  "kernelspec": {
   "display_name": "Python 3.10.6 64-bit",
   "language": "python",
   "name": "python3"
  },
  "language_info": {
   "codemirror_mode": {
    "name": "ipython",
    "version": 3
   },
   "file_extension": ".py",
   "mimetype": "text/x-python",
   "name": "python",
   "nbconvert_exporter": "python",
   "pygments_lexer": "ipython3",
   "version": "3.10.6"
  },
  "orig_nbformat": 4,
  "vscode": {
   "interpreter": {
    "hash": "916dbcbb3f70747c44a77c7bcd40155683ae19c65e1c03b4aa3499c5328201f1"
   }
  }
 },
 "nbformat": 4,
 "nbformat_minor": 2
}
