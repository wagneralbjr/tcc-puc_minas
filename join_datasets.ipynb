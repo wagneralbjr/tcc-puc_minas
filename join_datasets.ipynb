{
 "cells": [
  {
   "cell_type": "code",
   "execution_count": null,
   "metadata": {},
   "outputs": [],
   "source": [
    "from utils import start_notebook\n",
    "import pandas as pd\n",
    "ed_basica = pd.read_parquet(\"datasets/tratados/ed_basica_enriquecida.parquet\")\n",
    "enem = pd.read_parquet(\"datasets/tratados/enem.parquet\")\n",
    "data = ed_basica.merge(enem, how='inner', on=\"CO_MUNICIPIO\")\n"
   ]
  }
 ],
 "metadata": {
  "kernelspec": {
   "display_name": "Python 3.10.6 64-bit",
   "language": "python",
   "name": "python3"
  },
  "language_info": {
   "name": "python",
   "version": "3.10.6"
  },
  "orig_nbformat": 4,
  "vscode": {
   "interpreter": {
    "hash": "916dbcbb3f70747c44a77c7bcd40155683ae19c65e1c03b4aa3499c5328201f1"
   }
  }
 },
 "nbformat": 4,
 "nbformat_minor": 2
}
